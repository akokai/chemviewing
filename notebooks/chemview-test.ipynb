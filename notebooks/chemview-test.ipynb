{
 "cells": [
  {
   "cell_type": "code",
   "execution_count": 1,
   "metadata": {
    "collapsed": true
   },
   "outputs": [],
   "source": [
    "import requests\n",
    "import json\n",
    "import numpy as np\n",
    "import pandas as pd\n",
    "from pandas import DataFrame"
   ]
  },
  {
   "cell_type": "markdown",
   "metadata": {},
   "source": [
    "# US EPA ChemView web services\n",
    "\n",
    "The [documentation](http://java.epa.gov/chemview/resources/ChemView_WebServices.pdf) lists several ways of accessing data in ChemView. "
   ]
  },
  {
   "cell_type": "code",
   "execution_count": 2,
   "metadata": {
    "collapsed": false
   },
   "outputs": [],
   "source": [
    "URIBASE = 'http://java.epa.gov/chemview/'"
   ]
  },
  {
   "cell_type": "markdown",
   "metadata": {},
   "source": [
    "# Getting 'chemicals' data from ChemView\n",
    "\n",
    "As a start... this downloads data for *all* chemicals. Let's see what we get."
   ]
  },
  {
   "cell_type": "code",
   "execution_count": 3,
   "metadata": {
    "collapsed": false
   },
   "outputs": [],
   "source": [
    "uri = URIBASE + 'chemicals'\n",
    "r = requests.get(uri, headers = {'Accept': 'application/json, */*'})\n",
    "j = json.loads(r.text)"
   ]
  },
  {
   "cell_type": "code",
   "execution_count": 4,
   "metadata": {
    "collapsed": false
   },
   "outputs": [
    {
     "name": "stdout",
     "output_type": "stream",
     "text": [
      "9976\n"
     ]
    }
   ],
   "source": [
    "print(len(j))"
   ]
  },
  {
   "cell_type": "code",
   "execution_count": 5,
   "metadata": {
    "collapsed": false
   },
   "outputs": [
    {
     "data": {
      "text/html": [
       "<div style=\"max-height:1000px;max-width:1500px;overflow:auto;\">\n",
       "<table border=\"1\" class=\"dataframe\">\n",
       "  <thead>\n",
       "    <tr style=\"text-align: right;\">\n",
       "      <th></th>\n",
       "      <th>accessionNo</th>\n",
       "      <th>casNo</th>\n",
       "      <th>epaId</th>\n",
       "      <th>id</th>\n",
       "      <th>pmnNo</th>\n",
       "      <th>synonyms</th>\n",
       "    </tr>\n",
       "  </thead>\n",
       "  <tbody>\n",
       "    <tr>\n",
       "      <th>9971</th>\n",
       "      <td>None</td>\n",
       "      <td>998-30-1</td>\n",
       "      <td>None</td>\n",
       "      <td>4572865</td>\n",
       "      <td>None</td>\n",
       "      <td>[{'isWorkPlan': False, 'id': 4572866, 'isTscaI...</td>\n",
       "    </tr>\n",
       "    <tr>\n",
       "      <th>9972</th>\n",
       "      <td>None</td>\n",
       "      <td>998-40-3</td>\n",
       "      <td>None</td>\n",
       "      <td>5280997</td>\n",
       "      <td>None</td>\n",
       "      <td>[{'isWorkPlan': False, 'id': 5280999, 'isTscaI...</td>\n",
       "    </tr>\n",
       "    <tr>\n",
       "      <th>9973</th>\n",
       "      <td>None</td>\n",
       "      <td>99811-86-6</td>\n",
       "      <td>None</td>\n",
       "      <td>4472271</td>\n",
       "      <td>None</td>\n",
       "      <td>[{'isWorkPlan': False, 'id': 4472272, 'isTscaI...</td>\n",
       "    </tr>\n",
       "    <tr>\n",
       "      <th>9974</th>\n",
       "      <td>None</td>\n",
       "      <td>999-21-3</td>\n",
       "      <td>None</td>\n",
       "      <td>5117441</td>\n",
       "      <td>None</td>\n",
       "      <td>[{'isWorkPlan': False, 'id': 5117446, 'isTscaI...</td>\n",
       "    </tr>\n",
       "    <tr>\n",
       "      <th>9975</th>\n",
       "      <td>None</td>\n",
       "      <td>999-97-3</td>\n",
       "      <td>None</td>\n",
       "      <td>4468897</td>\n",
       "      <td>None</td>\n",
       "      <td>[{'isWorkPlan': False, 'id': 4468902, 'isTscaI...</td>\n",
       "    </tr>\n",
       "  </tbody>\n",
       "</table>\n",
       "</div>"
      ],
      "text/plain": [
       "     accessionNo       casNo epaId       id pmnNo  \\\n",
       "9971        None    998-30-1  None  4572865  None   \n",
       "9972        None    998-40-3  None  5280997  None   \n",
       "9973        None  99811-86-6  None  4472271  None   \n",
       "9974        None    999-21-3  None  5117441  None   \n",
       "9975        None    999-97-3  None  4468897  None   \n",
       "\n",
       "                                               synonyms  \n",
       "9971  [{'isWorkPlan': False, 'id': 4572866, 'isTscaI...  \n",
       "9972  [{'isWorkPlan': False, 'id': 5280999, 'isTscaI...  \n",
       "9973  [{'isWorkPlan': False, 'id': 4472272, 'isTscaI...  \n",
       "9974  [{'isWorkPlan': False, 'id': 5117446, 'isTscaI...  \n",
       "9975  [{'isWorkPlan': False, 'id': 4468902, 'isTscaI...  "
      ]
     },
     "execution_count": 5,
     "metadata": {},
     "output_type": "execute_result"
    }
   ],
   "source": [
    "df = DataFrame(j)\n",
    "df.tail()"
   ]
  },
  {
   "cell_type": "code",
   "execution_count": 6,
   "metadata": {
    "collapsed": true
   },
   "outputs": [],
   "source": [
    "# Save this dataset so that I don't have to re-request it again later. \n",
    "df.to_pickle('../data/chemicals.pickle')"
   ]
  },
  {
   "cell_type": "code",
   "execution_count": 14,
   "metadata": {
    "collapsed": true
   },
   "outputs": [],
   "source": [
    "df = pd.read_pickle('../data/chemicals.pickle')"
   ]
  },
  {
   "cell_type": "markdown",
   "metadata": {},
   "source": [
    "# Data wrangling"
   ]
  },
  {
   "cell_type": "code",
   "execution_count": 15,
   "metadata": {
    "collapsed": false
   },
   "outputs": [],
   "source": [
    "# want to interpret 'None' as NaN\n",
    "def scrub_None(x):\n",
    "    s = str(x).strip()\n",
    "    if s == 'None' or s == '':\n",
    "        return np.nan\n",
    "    else:\n",
    "        return s\n",
    "\n",
    "for c in list(df.columns)[:-1]:\n",
    "    df[c] = df[c].apply(scrub_None)"
   ]
  },
  {
   "cell_type": "code",
   "execution_count": 16,
   "metadata": {
    "collapsed": false
   },
   "outputs": [
    {
     "data": {
      "text/html": [
       "<div style=\"max-height:1000px;max-width:1500px;overflow:auto;\">\n",
       "<table border=\"1\" class=\"dataframe\">\n",
       "  <thead>\n",
       "    <tr style=\"text-align: right;\">\n",
       "      <th></th>\n",
       "      <th>accessionNo</th>\n",
       "      <th>casNo</th>\n",
       "      <th>epaId</th>\n",
       "      <th>id</th>\n",
       "      <th>pmnNo</th>\n",
       "      <th>synonyms</th>\n",
       "    </tr>\n",
       "  </thead>\n",
       "  <tbody>\n",
       "    <tr>\n",
       "      <th>9971</th>\n",
       "      <td>NaN</td>\n",
       "      <td>998-30-1</td>\n",
       "      <td>NaN</td>\n",
       "      <td>4572865</td>\n",
       "      <td>NaN</td>\n",
       "      <td>[{'isUnregistered': False, 'isIupac': True, 'i...</td>\n",
       "    </tr>\n",
       "    <tr>\n",
       "      <th>9972</th>\n",
       "      <td>NaN</td>\n",
       "      <td>998-40-3</td>\n",
       "      <td>NaN</td>\n",
       "      <td>5280997</td>\n",
       "      <td>NaN</td>\n",
       "      <td>[{'isUnregistered': True, 'isIupac': True, 'id...</td>\n",
       "    </tr>\n",
       "    <tr>\n",
       "      <th>9973</th>\n",
       "      <td>NaN</td>\n",
       "      <td>99811-86-6</td>\n",
       "      <td>NaN</td>\n",
       "      <td>4472271</td>\n",
       "      <td>NaN</td>\n",
       "      <td>[{'isUnregistered': False, 'isIupac': True, 'i...</td>\n",
       "    </tr>\n",
       "    <tr>\n",
       "      <th>9974</th>\n",
       "      <td>NaN</td>\n",
       "      <td>999-21-3</td>\n",
       "      <td>NaN</td>\n",
       "      <td>5117441</td>\n",
       "      <td>NaN</td>\n",
       "      <td>[{'isUnregistered': False, 'isIupac': True, 'i...</td>\n",
       "    </tr>\n",
       "    <tr>\n",
       "      <th>9975</th>\n",
       "      <td>NaN</td>\n",
       "      <td>999-97-3</td>\n",
       "      <td>NaN</td>\n",
       "      <td>4468897</td>\n",
       "      <td>NaN</td>\n",
       "      <td>[{'isUnregistered': False, 'isIupac': True, 'i...</td>\n",
       "    </tr>\n",
       "  </tbody>\n",
       "</table>\n",
       "</div>"
      ],
      "text/plain": [
       "     accessionNo       casNo epaId       id pmnNo  \\\n",
       "9971         NaN    998-30-1   NaN  4572865   NaN   \n",
       "9972         NaN    998-40-3   NaN  5280997   NaN   \n",
       "9973         NaN  99811-86-6   NaN  4472271   NaN   \n",
       "9974         NaN    999-21-3   NaN  5117441   NaN   \n",
       "9975         NaN    999-97-3   NaN  4468897   NaN   \n",
       "\n",
       "                                               synonyms  \n",
       "9971  [{'isUnregistered': False, 'isIupac': True, 'i...  \n",
       "9972  [{'isUnregistered': True, 'isIupac': True, 'id...  \n",
       "9973  [{'isUnregistered': False, 'isIupac': True, 'i...  \n",
       "9974  [{'isUnregistered': False, 'isIupac': True, 'i...  \n",
       "9975  [{'isUnregistered': False, 'isIupac': True, 'i...  "
      ]
     },
     "execution_count": 16,
     "metadata": {},
     "output_type": "execute_result"
    }
   ],
   "source": [
    "df.tail()"
   ]
  },
  {
   "cell_type": "markdown",
   "metadata": {},
   "source": [
    "## How many unique CASRNs, PMN numbers?"
   ]
  },
  {
   "cell_type": "code",
   "execution_count": 17,
   "metadata": {
    "collapsed": false
   },
   "outputs": [
    {
     "data": {
      "text/plain": [
       "9123"
      ]
     },
     "execution_count": 17,
     "metadata": {},
     "output_type": "execute_result"
    }
   ],
   "source": [
    "# CASRNS\n",
    "len(df.casNo.value_counts())"
   ]
  },
  {
   "cell_type": "code",
   "execution_count": 18,
   "metadata": {
    "collapsed": false
   },
   "outputs": [
    {
     "data": {
      "text/plain": [
       "518"
      ]
     },
     "execution_count": 18,
     "metadata": {},
     "output_type": "execute_result"
    }
   ],
   "source": [
    "# PMN numbers\n",
    "len(df.pmnNo.value_counts())"
   ]
  },
  {
   "cell_type": "markdown",
   "metadata": {},
   "source": [
    "## What's in 'synonyms'?"
   ]
  },
  {
   "cell_type": "code",
   "execution_count": 19,
   "metadata": {
    "collapsed": false
   },
   "outputs": [
    {
     "data": {
      "text/html": [
       "<div style=\"max-height:1000px;max-width:1500px;overflow:auto;\">\n",
       "<table border=\"1\" class=\"dataframe\">\n",
       "  <thead>\n",
       "    <tr style=\"text-align: right;\">\n",
       "      <th></th>\n",
       "      <th>chemicalName</th>\n",
       "      <th>id</th>\n",
       "      <th>isIupac</th>\n",
       "      <th>isRegistry</th>\n",
       "      <th>isSystematic</th>\n",
       "      <th>isTscaInv</th>\n",
       "      <th>isUnregistered</th>\n",
       "      <th>isWorkPlan</th>\n",
       "      <th>sortOrder</th>\n",
       "    </tr>\n",
       "  </thead>\n",
       "  <tbody>\n",
       "    <tr>\n",
       "      <th>0</th>\n",
       "      <td>2-methyl-3-phenylpropanal</td>\n",
       "      <td>3510038</td>\n",
       "      <td>False</td>\n",
       "      <td>False</td>\n",
       "      <td>False</td>\n",
       "      <td>False</td>\n",
       "      <td>False</td>\n",
       "      <td>False</td>\n",
       "      <td>5</td>\n",
       "    </tr>\n",
       "  </tbody>\n",
       "</table>\n",
       "</div>"
      ],
      "text/plain": [
       "                chemicalName       id isIupac isRegistry isSystematic  \\\n",
       "0  2-methyl-3-phenylpropanal  3510038   False      False        False   \n",
       "\n",
       "  isTscaInv isUnregistered isWorkPlan  sortOrder  \n",
       "0     False          False      False          5  "
      ]
     },
     "execution_count": 19,
     "metadata": {},
     "output_type": "execute_result"
    }
   ],
   "source": [
    "DataFrame(df.loc[4,'synonyms'])"
   ]
  },
  {
   "cell_type": "markdown",
   "metadata": {},
   "source": [
    "### How many 'synonyms' for each entry?"
   ]
  },
  {
   "cell_type": "code",
   "execution_count": 20,
   "metadata": {
    "collapsed": false,
    "scrolled": true
   },
   "outputs": [
    {
     "data": {
      "text/plain": [
       "count    9976.000000\n",
       "mean        4.837310\n",
       "std         3.525957\n",
       "min         1.000000\n",
       "25%         3.000000\n",
       "50%         4.000000\n",
       "75%         6.000000\n",
       "max        63.000000\n",
       "Name: synonyms, dtype: float64"
      ]
     },
     "execution_count": 20,
     "metadata": {},
     "output_type": "execute_result"
    }
   ],
   "source": [
    "df.synonyms.apply(len).describe()"
   ]
  },
  {
   "cell_type": "markdown",
   "metadata": {},
   "source": [
    "Do the data objects in `synonyms` all have the same attributes?"
   ]
  },
  {
   "cell_type": "code",
   "execution_count": 22,
   "metadata": {
    "collapsed": false
   },
   "outputs": [
    {
     "data": {
      "text/plain": [
       "0    chemicalName,id,isIupac,isRegistry,isSystemati...\n",
       "1    chemicalName,id,isIupac,isRegistry,isSystemati...\n",
       "2    chemicalName,id,isIupac,isRegistry,isSystemati...\n",
       "3    chemicalName,id,isIupac,isRegistry,isSystemati...\n",
       "4    chemicalName,id,isIupac,isRegistry,isSystemati...\n",
       "Name: synonyms, dtype: object"
      ]
     },
     "execution_count": 22,
     "metadata": {},
     "output_type": "execute_result"
    }
   ],
   "source": [
    "def getfields(x):\n",
    "    k = set()\n",
    "    for d in x:\n",
    "        j = set(d.keys())\n",
    "        k = k | j\n",
    "    return ','.join(sorted(k))\n",
    "\n",
    "df.synonyms.apply(getfields).head()"
   ]
  },
  {
   "cell_type": "code",
   "execution_count": 23,
   "metadata": {
    "collapsed": false
   },
   "outputs": [
    {
     "data": {
      "text/plain": [
       "1"
      ]
     },
     "execution_count": 23,
     "metadata": {},
     "output_type": "execute_result"
    }
   ],
   "source": [
    "len(df.synonyms.apply(getfields).value_counts())"
   ]
  },
  {
   "cell_type": "markdown",
   "metadata": {},
   "source": [
    "All of the `synonyms` fields contain a variable number of objects with a uniform set of fields."
   ]
  },
  {
   "cell_type": "markdown",
   "metadata": {},
   "source": [
    "## Tell me more about those items with PMN numbers..."
   ]
  },
  {
   "cell_type": "code",
   "execution_count": 24,
   "metadata": {
    "collapsed": false
   },
   "outputs": [
    {
     "data": {
      "text/html": [
       "<div style=\"max-height:1000px;max-width:1500px;overflow:auto;\">\n",
       "<table border=\"1\" class=\"dataframe\">\n",
       "  <thead>\n",
       "    <tr style=\"text-align: right;\">\n",
       "      <th></th>\n",
       "      <th>accessionNo</th>\n",
       "      <th>casNo</th>\n",
       "      <th>epaId</th>\n",
       "      <th>id</th>\n",
       "      <th>pmnNo</th>\n",
       "      <th>synonyms</th>\n",
       "    </tr>\n",
       "  </thead>\n",
       "  <tbody>\n",
       "    <tr>\n",
       "      <th>4</th>\n",
       "      <td>NaN</td>\n",
       "      <td>NaN</td>\n",
       "      <td>NaN</td>\n",
       "      <td>3510037</td>\n",
       "      <td>P-05-0055</td>\n",
       "      <td>[{'isUnregistered': False, 'isIupac': False, '...</td>\n",
       "    </tr>\n",
       "    <tr>\n",
       "      <th>5</th>\n",
       "      <td>NaN</td>\n",
       "      <td>NaN</td>\n",
       "      <td>NaN</td>\n",
       "      <td>3510068</td>\n",
       "      <td>P-05-0057</td>\n",
       "      <td>[{'isUnregistered': False, 'isIupac': True, 'i...</td>\n",
       "    </tr>\n",
       "    <tr>\n",
       "      <th>7</th>\n",
       "      <td>NaN</td>\n",
       "      <td>NaN</td>\n",
       "      <td>NaN</td>\n",
       "      <td>3510134</td>\n",
       "      <td>P-05-0059</td>\n",
       "      <td>[{'isUnregistered': False, 'isIupac': True, 'i...</td>\n",
       "    </tr>\n",
       "    <tr>\n",
       "      <th>8</th>\n",
       "      <td>NaN</td>\n",
       "      <td>NaN</td>\n",
       "      <td>NaN</td>\n",
       "      <td>3510165</td>\n",
       "      <td>P-05-0060</td>\n",
       "      <td>[{'isUnregistered': False, 'isIupac': True, 'i...</td>\n",
       "    </tr>\n",
       "    <tr>\n",
       "      <th>9</th>\n",
       "      <td>NaN</td>\n",
       "      <td>NaN</td>\n",
       "      <td>NaN</td>\n",
       "      <td>3510196</td>\n",
       "      <td>P-05-0061</td>\n",
       "      <td>[{'isUnregistered': False, 'isIupac': True, 'i...</td>\n",
       "    </tr>\n",
       "  </tbody>\n",
       "</table>\n",
       "</div>"
      ],
      "text/plain": [
       "  accessionNo casNo epaId       id      pmnNo  \\\n",
       "4         NaN   NaN   NaN  3510037  P-05-0055   \n",
       "5         NaN   NaN   NaN  3510068  P-05-0057   \n",
       "7         NaN   NaN   NaN  3510134  P-05-0059   \n",
       "8         NaN   NaN   NaN  3510165  P-05-0060   \n",
       "9         NaN   NaN   NaN  3510196  P-05-0061   \n",
       "\n",
       "                                            synonyms  \n",
       "4  [{'isUnregistered': False, 'isIupac': False, '...  \n",
       "5  [{'isUnregistered': False, 'isIupac': True, 'i...  \n",
       "7  [{'isUnregistered': False, 'isIupac': True, 'i...  \n",
       "8  [{'isUnregistered': False, 'isIupac': True, 'i...  \n",
       "9  [{'isUnregistered': False, 'isIupac': True, 'i...  "
      ]
     },
     "execution_count": 24,
     "metadata": {},
     "output_type": "execute_result"
    }
   ],
   "source": [
    "pmns = df.loc[df.pmnNo.notnull()]\n",
    "pmns.head()"
   ]
  },
  {
   "cell_type": "markdown",
   "metadata": {},
   "source": [
    "Are there any that have CASRN too? ... No."
   ]
  },
  {
   "cell_type": "code",
   "execution_count": 25,
   "metadata": {
    "collapsed": false
   },
   "outputs": [
    {
     "data": {
      "text/plain": [
       "0"
      ]
     },
     "execution_count": 25,
     "metadata": {},
     "output_type": "execute_result"
    }
   ],
   "source": [
    "len(pmns.casNo.dropna())"
   ]
  }
 ],
 "metadata": {
  "kernelspec": {
   "display_name": "Python 3",
   "language": "python",
   "name": "python3"
  },
  "language_info": {
   "codemirror_mode": {
    "name": "ipython",
    "version": 3
   },
   "file_extension": ".py",
   "mimetype": "text/x-python",
   "name": "python",
   "nbconvert_exporter": "python",
   "pygments_lexer": "ipython3",
   "version": "3.4.3"
  }
 },
 "nbformat": 4,
 "nbformat_minor": 0
}
